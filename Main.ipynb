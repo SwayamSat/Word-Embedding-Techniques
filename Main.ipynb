{
 "cells": [
  {
   "cell_type": "code",
   "execution_count": 1,
   "id": "0ebcb542",
   "metadata": {},
   "outputs": [
    {
     "name": "stdout",
     "output_type": "stream",
     "text": [
      "Looking in indexes: https://pypi.org/simple, https://pypi.ngc.nvidia.com\n",
      "Requirement already satisfied: tensorflow in c:\\users\\supra\\anaconda3\\envs\\w2v\\lib\\site-packages (2.15.0)\n",
      "Requirement already satisfied: tensorflow-intel==2.15.0 in c:\\users\\supra\\anaconda3\\envs\\w2v\\lib\\site-packages (from tensorflow) (2.15.0)\n",
      "Requirement already satisfied: absl-py>=1.0.0 in c:\\users\\supra\\anaconda3\\envs\\w2v\\lib\\site-packages (from tensorflow-intel==2.15.0->tensorflow) (2.3.1)\n",
      "Requirement already satisfied: astunparse>=1.6.0 in c:\\users\\supra\\anaconda3\\envs\\w2v\\lib\\site-packages (from tensorflow-intel==2.15.0->tensorflow) (1.6.3)\n",
      "Requirement already satisfied: flatbuffers>=23.5.26 in c:\\users\\supra\\anaconda3\\envs\\w2v\\lib\\site-packages (from tensorflow-intel==2.15.0->tensorflow) (25.9.23)\n",
      "Requirement already satisfied: gast!=0.5.0,!=0.5.1,!=0.5.2,>=0.2.1 in c:\\users\\supra\\anaconda3\\envs\\w2v\\lib\\site-packages (from tensorflow-intel==2.15.0->tensorflow) (0.6.0)\n",
      "Requirement already satisfied: google-pasta>=0.1.1 in c:\\users\\supra\\anaconda3\\envs\\w2v\\lib\\site-packages (from tensorflow-intel==2.15.0->tensorflow) (0.2.0)\n",
      "Requirement already satisfied: h5py>=2.9.0 in c:\\users\\supra\\anaconda3\\envs\\w2v\\lib\\site-packages (from tensorflow-intel==2.15.0->tensorflow) (3.14.0)\n",
      "Requirement already satisfied: libclang>=13.0.0 in c:\\users\\supra\\anaconda3\\envs\\w2v\\lib\\site-packages (from tensorflow-intel==2.15.0->tensorflow) (18.1.1)\n",
      "Requirement already satisfied: ml-dtypes~=0.2.0 in c:\\users\\supra\\anaconda3\\envs\\w2v\\lib\\site-packages (from tensorflow-intel==2.15.0->tensorflow) (0.2.0)\n",
      "Requirement already satisfied: numpy<2.0.0,>=1.23.5 in c:\\users\\supra\\anaconda3\\envs\\w2v\\lib\\site-packages (from tensorflow-intel==2.15.0->tensorflow) (1.26.4)\n",
      "Requirement already satisfied: opt-einsum>=2.3.2 in c:\\users\\supra\\anaconda3\\envs\\w2v\\lib\\site-packages (from tensorflow-intel==2.15.0->tensorflow) (3.4.0)\n",
      "Requirement already satisfied: packaging in c:\\users\\supra\\anaconda3\\envs\\w2v\\lib\\site-packages (from tensorflow-intel==2.15.0->tensorflow) (25.0)\n",
      "Requirement already satisfied: protobuf!=4.21.0,!=4.21.1,!=4.21.2,!=4.21.3,!=4.21.4,!=4.21.5,<5.0.0dev,>=3.20.3 in c:\\users\\supra\\anaconda3\\envs\\w2v\\lib\\site-packages (from tensorflow-intel==2.15.0->tensorflow) (4.25.8)\n",
      "Requirement already satisfied: setuptools in c:\\users\\supra\\anaconda3\\envs\\w2v\\lib\\site-packages (from tensorflow-intel==2.15.0->tensorflow) (80.9.0)\n",
      "Requirement already satisfied: six>=1.12.0 in c:\\users\\supra\\anaconda3\\envs\\w2v\\lib\\site-packages (from tensorflow-intel==2.15.0->tensorflow) (1.17.0)\n",
      "Requirement already satisfied: termcolor>=1.1.0 in c:\\users\\supra\\anaconda3\\envs\\w2v\\lib\\site-packages (from tensorflow-intel==2.15.0->tensorflow) (3.1.0)\n",
      "Requirement already satisfied: typing-extensions>=3.6.6 in c:\\users\\supra\\anaconda3\\envs\\w2v\\lib\\site-packages (from tensorflow-intel==2.15.0->tensorflow) (4.15.0)\n",
      "Requirement already satisfied: wrapt<1.15,>=1.11.0 in c:\\users\\supra\\anaconda3\\envs\\w2v\\lib\\site-packages (from tensorflow-intel==2.15.0->tensorflow) (1.14.2)\n",
      "Requirement already satisfied: tensorflow-io-gcs-filesystem>=0.23.1 in c:\\users\\supra\\anaconda3\\envs\\w2v\\lib\\site-packages (from tensorflow-intel==2.15.0->tensorflow) (0.31.0)\n",
      "Requirement already satisfied: grpcio<2.0,>=1.24.3 in c:\\users\\supra\\anaconda3\\envs\\w2v\\lib\\site-packages (from tensorflow-intel==2.15.0->tensorflow) (1.75.1)\n",
      "Requirement already satisfied: tensorboard<2.16,>=2.15 in c:\\users\\supra\\anaconda3\\envs\\w2v\\lib\\site-packages (from tensorflow-intel==2.15.0->tensorflow) (2.15.2)\n",
      "Requirement already satisfied: tensorflow-estimator<2.16,>=2.15.0 in c:\\users\\supra\\anaconda3\\envs\\w2v\\lib\\site-packages (from tensorflow-intel==2.15.0->tensorflow) (2.15.0)\n",
      "Requirement already satisfied: keras<2.16,>=2.15.0 in c:\\users\\supra\\anaconda3\\envs\\w2v\\lib\\site-packages (from tensorflow-intel==2.15.0->tensorflow) (2.15.0)\n",
      "Requirement already satisfied: google-auth<3,>=1.6.3 in c:\\users\\supra\\anaconda3\\envs\\w2v\\lib\\site-packages (from tensorboard<2.16,>=2.15->tensorflow-intel==2.15.0->tensorflow) (2.41.1)\n",
      "Requirement already satisfied: google-auth-oauthlib<2,>=0.5 in c:\\users\\supra\\anaconda3\\envs\\w2v\\lib\\site-packages (from tensorboard<2.16,>=2.15->tensorflow-intel==2.15.0->tensorflow) (1.2.2)\n",
      "Requirement already satisfied: markdown>=2.6.8 in c:\\users\\supra\\anaconda3\\envs\\w2v\\lib\\site-packages (from tensorboard<2.16,>=2.15->tensorflow-intel==2.15.0->tensorflow) (3.9)\n",
      "Requirement already satisfied: requests<3,>=2.21.0 in c:\\users\\supra\\anaconda3\\envs\\w2v\\lib\\site-packages (from tensorboard<2.16,>=2.15->tensorflow-intel==2.15.0->tensorflow) (2.32.5)\n",
      "Requirement already satisfied: tensorboard-data-server<0.8.0,>=0.7.0 in c:\\users\\supra\\anaconda3\\envs\\w2v\\lib\\site-packages (from tensorboard<2.16,>=2.15->tensorflow-intel==2.15.0->tensorflow) (0.7.2)\n",
      "Requirement already satisfied: werkzeug>=1.0.1 in c:\\users\\supra\\anaconda3\\envs\\w2v\\lib\\site-packages (from tensorboard<2.16,>=2.15->tensorflow-intel==2.15.0->tensorflow) (3.1.3)\n",
      "Requirement already satisfied: cachetools<7.0,>=2.0.0 in c:\\users\\supra\\anaconda3\\envs\\w2v\\lib\\site-packages (from google-auth<3,>=1.6.3->tensorboard<2.16,>=2.15->tensorflow-intel==2.15.0->tensorflow) (6.2.0)\n",
      "Requirement already satisfied: pyasn1-modules>=0.2.1 in c:\\users\\supra\\anaconda3\\envs\\w2v\\lib\\site-packages (from google-auth<3,>=1.6.3->tensorboard<2.16,>=2.15->tensorflow-intel==2.15.0->tensorflow) (0.4.2)\n",
      "Requirement already satisfied: rsa<5,>=3.1.4 in c:\\users\\supra\\anaconda3\\envs\\w2v\\lib\\site-packages (from google-auth<3,>=1.6.3->tensorboard<2.16,>=2.15->tensorflow-intel==2.15.0->tensorflow) (4.9.1)\n",
      "Requirement already satisfied: requests-oauthlib>=0.7.0 in c:\\users\\supra\\anaconda3\\envs\\w2v\\lib\\site-packages (from google-auth-oauthlib<2,>=0.5->tensorboard<2.16,>=2.15->tensorflow-intel==2.15.0->tensorflow) (2.0.0)\n",
      "Requirement already satisfied: charset_normalizer<4,>=2 in c:\\users\\supra\\anaconda3\\envs\\w2v\\lib\\site-packages (from requests<3,>=2.21.0->tensorboard<2.16,>=2.15->tensorflow-intel==2.15.0->tensorflow) (3.4.3)\n",
      "Requirement already satisfied: idna<4,>=2.5 in c:\\users\\supra\\anaconda3\\envs\\w2v\\lib\\site-packages (from requests<3,>=2.21.0->tensorboard<2.16,>=2.15->tensorflow-intel==2.15.0->tensorflow) (3.10)\n",
      "Requirement already satisfied: urllib3<3,>=1.21.1 in c:\\users\\supra\\anaconda3\\envs\\w2v\\lib\\site-packages (from requests<3,>=2.21.0->tensorboard<2.16,>=2.15->tensorflow-intel==2.15.0->tensorflow) (2.5.0)\n",
      "Requirement already satisfied: certifi>=2017.4.17 in c:\\users\\supra\\anaconda3\\envs\\w2v\\lib\\site-packages (from requests<3,>=2.21.0->tensorboard<2.16,>=2.15->tensorflow-intel==2.15.0->tensorflow) (2025.8.3)\n",
      "Requirement already satisfied: pyasn1>=0.1.3 in c:\\users\\supra\\anaconda3\\envs\\w2v\\lib\\site-packages (from rsa<5,>=3.1.4->google-auth<3,>=1.6.3->tensorboard<2.16,>=2.15->tensorflow-intel==2.15.0->tensorflow) (0.6.1)\n",
      "Requirement already satisfied: wheel<1.0,>=0.23.0 in c:\\users\\supra\\anaconda3\\envs\\w2v\\lib\\site-packages (from astunparse>=1.6.0->tensorflow-intel==2.15.0->tensorflow) (0.45.1)\n",
      "Requirement already satisfied: oauthlib>=3.0.0 in c:\\users\\supra\\anaconda3\\envs\\w2v\\lib\\site-packages (from requests-oauthlib>=0.7.0->google-auth-oauthlib<2,>=0.5->tensorboard<2.16,>=2.15->tensorflow-intel==2.15.0->tensorflow) (3.3.1)\n",
      "Requirement already satisfied: MarkupSafe>=2.1.1 in c:\\users\\supra\\anaconda3\\envs\\w2v\\lib\\site-packages (from werkzeug>=1.0.1->tensorboard<2.16,>=2.15->tensorflow-intel==2.15.0->tensorflow) (3.0.3)\n"
     ]
    }
   ],
   "source": [
    "!pip install tensorflow"
   ]
  },
  {
   "cell_type": "code",
   "execution_count": 2,
   "id": "b3ca9ef7",
   "metadata": {},
   "outputs": [
    {
     "name": "stdout",
     "output_type": "stream",
     "text": [
      "WARNING:tensorflow:From c:\\Users\\supra\\anaconda3\\envs\\w2v\\lib\\site-packages\\keras\\src\\losses.py:2976: The name tf.losses.sparse_softmax_cross_entropy is deprecated. Please use tf.compat.v1.losses.sparse_softmax_cross_entropy instead.\n",
      "\n",
      "2.15.0\n"
     ]
    }
   ],
   "source": [
    "import tensorflow as tf\n",
    "print(tf.__version__)"
   ]
  },
  {
   "cell_type": "code",
   "execution_count": 3,
   "id": "ca908ff1",
   "metadata": {},
   "outputs": [],
   "source": [
    "from tensorflow.keras.preprocessing.text import one_hot"
   ]
  },
  {
   "cell_type": "code",
   "execution_count": 4,
   "id": "6cfc6947",
   "metadata": {},
   "outputs": [],
   "source": [
    "### sentences\n",
    "sent=[  'the glass of milk',\n",
    "     'the glass of juice',\n",
    "     'the cup of tea',\n",
    "    'I am a good boy',\n",
    "     'I am a good developer',\n",
    "     'understand the meaning of words',\n",
    "     'Do it like a professional']"
   ]
  },
  {
   "cell_type": "code",
   "execution_count": 5,
   "id": "80b1df97",
   "metadata": {},
   "outputs": [
    {
     "data": {
      "text/plain": [
       "['the glass of milk',\n",
       " 'the glass of juice',\n",
       " 'the cup of tea',\n",
       " 'I am a good boy',\n",
       " 'I am a good developer',\n",
       " 'understand the meaning of words',\n",
       " 'Do it like a professional']"
      ]
     },
     "execution_count": 5,
     "metadata": {},
     "output_type": "execute_result"
    }
   ],
   "source": [
    "sent"
   ]
  },
  {
   "cell_type": "code",
   "execution_count": 6,
   "id": "9248f6f8",
   "metadata": {},
   "outputs": [],
   "source": [
    "### Vocabulary size\n",
    "voc_size=1000"
   ]
  },
  {
   "cell_type": "code",
   "execution_count": 7,
   "id": "edc9c3a5",
   "metadata": {},
   "outputs": [
    {
     "name": "stdout",
     "output_type": "stream",
     "text": [
      "[[258, 359, 428, 563], [258, 359, 428, 466], [258, 277, 428, 707], [922, 653, 174, 125, 691], [922, 653, 174, 125, 710], [895, 258, 555, 428, 654], [783, 179, 146, 174, 674]]\n"
     ]
    }
   ],
   "source": [
    "onehot_repr=[one_hot(words,voc_size)for words in sent] \n",
    "print(onehot_repr)"
   ]
  },
  {
   "cell_type": "code",
   "execution_count": 8,
   "id": "42865db9",
   "metadata": {},
   "outputs": [],
   "source": [
    "from tensorflow.keras.layers import Embedding\n",
    "from tensorflow.keras.preprocessing.sequence import pad_sequences\n",
    "from tensorflow.keras.models import Sequential"
   ]
  },
  {
   "cell_type": "code",
   "execution_count": 9,
   "id": "922727e3",
   "metadata": {},
   "outputs": [
    {
     "name": "stdout",
     "output_type": "stream",
     "text": [
      "[[  0   0   0   0 258 359 428 563]\n",
      " [  0   0   0   0 258 359 428 466]\n",
      " [  0   0   0   0 258 277 428 707]\n",
      " [  0   0   0 922 653 174 125 691]\n",
      " [  0   0   0 922 653 174 125 710]\n",
      " [  0   0   0 895 258 555 428 654]\n",
      " [  0   0   0 783 179 146 174 674]]\n"
     ]
    }
   ],
   "source": [
    "## pre padding\n",
    "sent_length=8\n",
    "embedded_docs=pad_sequences(onehot_repr,padding='pre',maxlen=sent_length)\n",
    "print(embedded_docs)"
   ]
  },
  {
   "cell_type": "code",
   "execution_count": 10,
   "id": "43cde6b0",
   "metadata": {},
   "outputs": [],
   "source": [
    "## feature representation dimensions\n",
    "dim=20\n"
   ]
  },
  {
   "cell_type": "code",
   "execution_count": 11,
   "id": "23d33bcc",
   "metadata": {},
   "outputs": [
    {
     "name": "stdout",
     "output_type": "stream",
     "text": [
      "WARNING:tensorflow:From c:\\Users\\supra\\anaconda3\\envs\\w2v\\lib\\site-packages\\keras\\src\\backend.py:873: The name tf.get_default_graph is deprecated. Please use tf.compat.v1.get_default_graph instead.\n",
      "\n",
      "WARNING:tensorflow:From c:\\Users\\supra\\anaconda3\\envs\\w2v\\lib\\site-packages\\keras\\src\\optimizers\\__init__.py:309: The name tf.train.Optimizer is deprecated. Please use tf.compat.v1.train.Optimizer instead.\n",
      "\n"
     ]
    }
   ],
   "source": [
    "model=Sequential()\n",
    "model.add(Embedding(voc_size,dim,input_length=sent_length))\n",
    "model.compile('adam','mse')"
   ]
  },
  {
   "cell_type": "code",
   "execution_count": 12,
   "id": "a7f3f03b",
   "metadata": {},
   "outputs": [
    {
     "name": "stdout",
     "output_type": "stream",
     "text": [
      "Model: \"sequential\"\n",
      "_________________________________________________________________\n",
      " Layer (type)                Output Shape              Param #   \n",
      "=================================================================\n",
      " embedding (Embedding)       (None, 8, 20)             20000     \n",
      "                                                                 \n",
      "=================================================================\n",
      "Total params: 20000 (78.12 KB)\n",
      "Trainable params: 20000 (78.12 KB)\n",
      "Non-trainable params: 0 (0.00 Byte)\n",
      "_________________________________________________________________\n"
     ]
    }
   ],
   "source": [
    "model.summary()"
   ]
  },
  {
   "cell_type": "code",
   "execution_count": 13,
   "id": "df67624c",
   "metadata": {},
   "outputs": [
    {
     "data": {
      "text/plain": [
       "array([  0,   0,   0, 783, 179, 146, 174, 674])"
      ]
     },
     "execution_count": 13,
     "metadata": {},
     "output_type": "execute_result"
    }
   ],
   "source": [
    "## 'Do it like a professional'\n",
    "embedded_docs[6]"
   ]
  },
  {
   "cell_type": "code",
   "execution_count": 14,
   "id": "a2b69029",
   "metadata": {},
   "outputs": [
    {
     "name": "stdout",
     "output_type": "stream",
     "text": [
      "1/1 [==============================] - 0s 67ms/step\n"
     ]
    },
    {
     "data": {
      "text/plain": [
       "array([[-0.0011517 ,  0.01464841, -0.03173901,  0.02961453, -0.03275188,\n",
       "         0.01063102, -0.00463648, -0.01327894,  0.04962827,  0.04621981,\n",
       "        -0.03990717,  0.03388535, -0.00277557,  0.00507282,  0.01699081,\n",
       "        -0.04361413,  0.01243081,  0.00514364, -0.02532518,  0.04083811],\n",
       "       [-0.0011517 ,  0.01464841, -0.03173901,  0.02961453, -0.03275188,\n",
       "         0.01063102, -0.00463648, -0.01327894,  0.04962827,  0.04621981,\n",
       "        -0.03990717,  0.03388535, -0.00277557,  0.00507282,  0.01699081,\n",
       "        -0.04361413,  0.01243081,  0.00514364, -0.02532518,  0.04083811],\n",
       "       [-0.0011517 ,  0.01464841, -0.03173901,  0.02961453, -0.03275188,\n",
       "         0.01063102, -0.00463648, -0.01327894,  0.04962827,  0.04621981,\n",
       "        -0.03990717,  0.03388535, -0.00277557,  0.00507282,  0.01699081,\n",
       "        -0.04361413,  0.01243081,  0.00514364, -0.02532518,  0.04083811],\n",
       "       [ 0.04630465,  0.01805018,  0.01916717,  0.02991067, -0.00872049,\n",
       "         0.0205923 , -0.01960801, -0.02962102, -0.00265884, -0.01758178,\n",
       "         0.04705931,  0.03980282, -0.03971001, -0.04433007,  0.00767766,\n",
       "        -0.00831933,  0.04371414,  0.04223267, -0.0143153 , -0.03296842],\n",
       "       [-0.0195735 ,  0.0443318 ,  0.00332581, -0.01332908,  0.0185839 ,\n",
       "         0.01968653, -0.03516941,  0.01059047,  0.01057553, -0.04395694,\n",
       "         0.00676518,  0.00508585,  0.0231607 ,  0.01856211,  0.00890795,\n",
       "         0.01252815,  0.02335155, -0.01410129,  0.04611574, -0.0301168 ],\n",
       "       [ 0.02775318,  0.04657376, -0.01566211, -0.03678244,  0.0077365 ,\n",
       "        -0.02511558, -0.03822396, -0.04924889, -0.00918136, -0.04840633,\n",
       "        -0.02669848, -0.04866551,  0.0247025 , -0.03486601, -0.03865818,\n",
       "         0.03845253,  0.03475667,  0.02472785,  0.00534385, -0.03998575],\n",
       "       [ 0.03219153, -0.02001735,  0.04410109, -0.04940263, -0.04656766,\n",
       "         0.00507348,  0.03144806,  0.00444828,  0.02674712, -0.04009694,\n",
       "        -0.04491247, -0.02874411,  0.03504876,  0.00564222, -0.02608135,\n",
       "        -0.04598442, -0.02667338, -0.02610624, -0.04432474,  0.03562606],\n",
       "       [ 0.02319193, -0.0326729 ,  0.03435857,  0.02929909,  0.04946815,\n",
       "        -0.0276212 , -0.02080158, -0.00668366, -0.0062205 ,  0.01618182,\n",
       "         0.04794351,  0.02535248,  0.03418801, -0.04806921, -0.02393466,\n",
       "        -0.01175872, -0.0423458 , -0.04810512, -0.04054947,  0.04807503]],\n",
       "      dtype=float32)"
      ]
     },
     "execution_count": 14,
     "metadata": {},
     "output_type": "execute_result"
    }
   ],
   "source": [
    "model.predict(embedded_docs[6])"
   ]
  },
  {
   "cell_type": "code",
   "execution_count": 15,
   "id": "1afa194e",
   "metadata": {},
   "outputs": [
    {
     "name": "stdout",
     "output_type": "stream",
     "text": [
      "1/1 [==============================] - 0s 35ms/step\n"
     ]
    },
    {
     "data": {
      "text/plain": [
       "array([[[-0.0011517 ,  0.01464841, -0.03173901, ...,  0.00514364,\n",
       "         -0.02532518,  0.04083811],\n",
       "        [-0.0011517 ,  0.01464841, -0.03173901, ...,  0.00514364,\n",
       "         -0.02532518,  0.04083811],\n",
       "        [-0.0011517 ,  0.01464841, -0.03173901, ...,  0.00514364,\n",
       "         -0.02532518,  0.04083811],\n",
       "        ...,\n",
       "        [-0.03706098, -0.02126219, -0.02848649, ...,  0.04565923,\n",
       "         -0.03348982, -0.0038837 ],\n",
       "        [ 0.03629318, -0.0282285 ,  0.03240529, ...,  0.04474253,\n",
       "         -0.00260606, -0.02051622],\n",
       "        [ 0.03294872,  0.03702391,  0.02162531, ..., -0.0489864 ,\n",
       "         -0.01599969, -0.04376079]],\n",
       "\n",
       "       [[-0.0011517 ,  0.01464841, -0.03173901, ...,  0.00514364,\n",
       "         -0.02532518,  0.04083811],\n",
       "        [-0.0011517 ,  0.01464841, -0.03173901, ...,  0.00514364,\n",
       "         -0.02532518,  0.04083811],\n",
       "        [-0.0011517 ,  0.01464841, -0.03173901, ...,  0.00514364,\n",
       "         -0.02532518,  0.04083811],\n",
       "        ...,\n",
       "        [-0.03706098, -0.02126219, -0.02848649, ...,  0.04565923,\n",
       "         -0.03348982, -0.0038837 ],\n",
       "        [ 0.03629318, -0.0282285 ,  0.03240529, ...,  0.04474253,\n",
       "         -0.00260606, -0.02051622],\n",
       "        [-0.03305157, -0.01910949, -0.04382458, ..., -0.04210179,\n",
       "         -0.03371707,  0.01009939]],\n",
       "\n",
       "       [[-0.0011517 ,  0.01464841, -0.03173901, ...,  0.00514364,\n",
       "         -0.02532518,  0.04083811],\n",
       "        [-0.0011517 ,  0.01464841, -0.03173901, ...,  0.00514364,\n",
       "         -0.02532518,  0.04083811],\n",
       "        [-0.0011517 ,  0.01464841, -0.03173901, ...,  0.00514364,\n",
       "         -0.02532518,  0.04083811],\n",
       "        ...,\n",
       "        [ 0.0047114 ,  0.04092667,  0.01313559, ...,  0.01794403,\n",
       "          0.00735236,  0.03050829],\n",
       "        [ 0.03629318, -0.0282285 ,  0.03240529, ...,  0.04474253,\n",
       "         -0.00260606, -0.02051622],\n",
       "        [-0.04576461, -0.03733338,  0.03640581, ...,  0.00443367,\n",
       "          0.02712219, -0.03694968]],\n",
       "\n",
       "       ...,\n",
       "\n",
       "       [[-0.0011517 ,  0.01464841, -0.03173901, ...,  0.00514364,\n",
       "         -0.02532518,  0.04083811],\n",
       "        [-0.0011517 ,  0.01464841, -0.03173901, ...,  0.00514364,\n",
       "         -0.02532518,  0.04083811],\n",
       "        [-0.0011517 ,  0.01464841, -0.03173901, ...,  0.00514364,\n",
       "         -0.02532518,  0.04083811],\n",
       "        ...,\n",
       "        [ 0.03219153, -0.02001735,  0.04410109, ..., -0.02610624,\n",
       "         -0.04432474,  0.03562606],\n",
       "        [ 0.02932993, -0.00234772, -0.0010735 , ...,  0.01839748,\n",
       "          0.04634155,  0.03481892],\n",
       "        [ 0.01400647,  0.02164156,  0.0028772 , ..., -0.02257227,\n",
       "          0.03547604,  0.03035133]],\n",
       "\n",
       "       [[-0.0011517 ,  0.01464841, -0.03173901, ...,  0.00514364,\n",
       "         -0.02532518,  0.04083811],\n",
       "        [-0.0011517 ,  0.01464841, -0.03173901, ...,  0.00514364,\n",
       "         -0.02532518,  0.04083811],\n",
       "        [-0.0011517 ,  0.01464841, -0.03173901, ...,  0.00514364,\n",
       "         -0.02532518,  0.04083811],\n",
       "        ...,\n",
       "        [-0.03797217,  0.01266975, -0.03531841, ..., -0.04654088,\n",
       "          0.04573501, -0.01258093],\n",
       "        [ 0.03629318, -0.0282285 ,  0.03240529, ...,  0.04474253,\n",
       "         -0.00260606, -0.02051622],\n",
       "        [ 0.01340354,  0.03630134,  0.0269763 , ..., -0.00052028,\n",
       "          0.03453768,  0.00710235]],\n",
       "\n",
       "       [[-0.0011517 ,  0.01464841, -0.03173901, ...,  0.00514364,\n",
       "         -0.02532518,  0.04083811],\n",
       "        [-0.0011517 ,  0.01464841, -0.03173901, ...,  0.00514364,\n",
       "         -0.02532518,  0.04083811],\n",
       "        [-0.0011517 ,  0.01464841, -0.03173901, ...,  0.00514364,\n",
       "         -0.02532518,  0.04083811],\n",
       "        ...,\n",
       "        [ 0.02775318,  0.04657376, -0.01566211, ...,  0.02472785,\n",
       "          0.00534385, -0.03998575],\n",
       "        [ 0.03219153, -0.02001735,  0.04410109, ..., -0.02610624,\n",
       "         -0.04432474,  0.03562606],\n",
       "        [ 0.02319193, -0.0326729 ,  0.03435857, ..., -0.04810512,\n",
       "         -0.04054947,  0.04807503]]], dtype=float32)"
      ]
     },
     "execution_count": 15,
     "metadata": {},
     "output_type": "execute_result"
    }
   ],
   "source": [
    "model.predict(embedded_docs)"
   ]
  }
 ],
 "metadata": {
  "kernelspec": {
   "display_name": "Python 3",
   "language": "python",
   "name": "python3"
  },
  "language_info": {
   "codemirror_mode": {
    "name": "ipython",
    "version": 3
   },
   "file_extension": ".py",
   "mimetype": "text/x-python",
   "name": "python",
   "nbconvert_exporter": "python",
   "pygments_lexer": "ipython3",
   "version": "3.10.18"
  }
 },
 "nbformat": 4,
 "nbformat_minor": 5
}
